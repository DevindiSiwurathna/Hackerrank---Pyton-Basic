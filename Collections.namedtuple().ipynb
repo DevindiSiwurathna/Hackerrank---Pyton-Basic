{
 "cells": [
  {
   "cell_type": "code",
   "execution_count": 1,
   "id": "d678a27b",
   "metadata": {},
   "outputs": [
    {
     "name": "stdout",
     "output_type": "stream",
     "text": [
      "5\n",
      "MARKS      CLASS      NAME       ID \n",
      "92         2          Calum      1         \n",
      "82         5          Scott      2     \n",
      "94         2          Jason      3   \n",
      "55         8          Glenn      4         \n",
      "82         2          Fergus     5\n",
      "81.00\n"
     ]
    }
   ],
   "source": [
    "N = int(input())\n",
    "fields = input().split()\n",
    "\n",
    "total = 0\n",
    "\n",
    "index = fields.index('MARKS')\n",
    "\n",
    "\n",
    "for i in range(N):\n",
    "    first = input().split()\n",
    "    mark = int(first[index])\n",
    "    total = total + mark\n",
    "\n",
    "\n",
    "average = \"{:.2f}\".format(total/int(N))\n",
    "print(average)\n",
    "    \n"
   ]
  },
  {
   "cell_type": "code",
   "execution_count": null,
   "id": "59b9a084",
   "metadata": {},
   "outputs": [],
   "source": []
  }
 ],
 "metadata": {
  "kernelspec": {
   "display_name": "Python 3",
   "language": "python",
   "name": "python3"
  },
  "language_info": {
   "codemirror_mode": {
    "name": "ipython",
    "version": 3
   },
   "file_extension": ".py",
   "mimetype": "text/x-python",
   "name": "python",
   "nbconvert_exporter": "python",
   "pygments_lexer": "ipython3",
   "version": "3.8.8"
  }
 },
 "nbformat": 4,
 "nbformat_minor": 5
}
