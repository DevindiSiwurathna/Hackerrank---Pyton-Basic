{
 "cells": [
  {
   "cell_type": "code",
   "execution_count": 18,
   "id": "f3e519cc",
   "metadata": {},
   "outputs": [
    {
     "name": "stdout",
     "output_type": "stream",
     "text": [
      "HACK 2\n",
      "2\n",
      "HACK\n",
      "['A', 'C', 'H', 'K']\n",
      "['A', 'C', 'H', 'K']\n",
      "[('A', 'C'), ('A', 'H'), ('A', 'K'), ('C', 'A'), ('C', 'H'), ('C', 'K'), ('H', 'A'), ('H', 'C'), ('H', 'K'), ('K', 'A'), ('K', 'C'), ('K', 'H')]\n",
      "AC\n",
      "AH\n",
      "AK\n",
      "CA\n",
      "CH\n",
      "CK\n",
      "HA\n",
      "HC\n",
      "HK\n",
      "KA\n",
      "KC\n",
      "KH\n"
     ]
    }
   ],
   "source": [
    "\n",
    "from itertools import permutations \n",
    "strng = input().split()\n",
    "k = int(strng[1])\n",
    "strn = str(strng[0])\n",
    "print(k)\n",
    "print(strn)\n",
    "sorted_strn = sorted(strn)\n",
    "print(sorted_strn)\n",
    "res = [char for char in sorted_strn if char.isupper()]\n",
    "print(res)\n",
    "\n",
    "print((list(permutations(res, k))))\n",
    "\n",
    "per = permutations(res, k)\n",
    "for val in per:\n",
    "    word = ''.join(val)\n",
    "    print(word)"
   ]
  },
  {
   "cell_type": "code",
   "execution_count": null,
   "id": "db249e8d",
   "metadata": {},
   "outputs": [],
   "source": []
  },
  {
   "cell_type": "code",
   "execution_count": null,
   "id": "d2bc72cd",
   "metadata": {},
   "outputs": [],
   "source": []
  }
 ],
 "metadata": {
  "kernelspec": {
   "display_name": "Python 3",
   "language": "python",
   "name": "python3"
  },
  "language_info": {
   "codemirror_mode": {
    "name": "ipython",
    "version": 3
   },
   "file_extension": ".py",
   "mimetype": "text/x-python",
   "name": "python",
   "nbconvert_exporter": "python",
   "pygments_lexer": "ipython3",
   "version": "3.8.8"
  }
 },
 "nbformat": 4,
 "nbformat_minor": 5
}
