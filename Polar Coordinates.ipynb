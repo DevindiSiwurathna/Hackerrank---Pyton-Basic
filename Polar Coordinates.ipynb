{
 "cells": [
  {
   "cell_type": "code",
   "execution_count": 51,
   "id": "f5a0a997",
   "metadata": {},
   "outputs": [
    {
     "name": "stdout",
     "output_type": "stream",
     "text": [
      "-1-5j\n",
      "-1.0\n",
      "-5.0\n",
      "5.0990195135927845\n",
      "-1.7681918866447774\n"
     ]
    }
   ],
   "source": [
    "import cmath\n",
    "\n",
    "z = complex(input())\n",
    "print(z.real)\n",
    "print(z.imag)  \n",
    "print(abs(complex(z.real, z.imag)))\n",
    "print(cmath.phase(complex(z.real, z.imag)))\n"
   ]
  }
 ],
 "metadata": {
  "kernelspec": {
   "display_name": "Python 3",
   "language": "python",
   "name": "python3"
  },
  "language_info": {
   "codemirror_mode": {
    "name": "ipython",
    "version": 3
   },
   "file_extension": ".py",
   "mimetype": "text/x-python",
   "name": "python",
   "nbconvert_exporter": "python",
   "pygments_lexer": "ipython3",
   "version": "3.8.8"
  }
 },
 "nbformat": 4,
 "nbformat_minor": 5
}
