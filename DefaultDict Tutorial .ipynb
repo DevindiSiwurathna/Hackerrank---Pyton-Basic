{
 "cells": [
  {
   "cell_type": "code",
   "execution_count": 2,
   "id": "8a0555a0",
   "metadata": {},
   "outputs": [
    {
     "name": "stdout",
     "output_type": "stream",
     "text": [
      "5 2\n",
      "a\n",
      "a\n",
      "b\n",
      "a\n",
      "b\n",
      "a\n",
      "b\n",
      "1 2 4\n",
      "3 5\n"
     ]
    }
   ],
   "source": [
    "from collections import defaultdict\n",
    "d = defaultdict(list)\n",
    "list1=[]\n",
    "\n",
    "n, m = map(int,input().split())\n",
    "\n",
    "for i in range(0,n):\n",
    "    d[input()].append(i+1) \n",
    "\n",
    "for i in range(0,m):\n",
    "    list1=list1+[input()]  \n",
    "\n",
    "for i in list1: \n",
    "    if i in d:\n",
    "        print (\" \".join( map(str,d[i]) ))\n",
    "    else:\n",
    "        print -1"
   ]
  },
  {
   "cell_type": "code",
   "execution_count": 3,
   "id": "02abd7e4",
   "metadata": {},
   "outputs": [
    {
     "name": "stdout",
     "output_type": "stream",
     "text": [
      "5 2\n",
      "a \n",
      "a\n",
      "b\n",
      "a\n",
      "b\n",
      "a\n",
      "2 4\n",
      "b\n",
      "3 5\n"
     ]
    }
   ],
   "source": [
    "from collections import defaultdict\n",
    "\n",
    "n,m = list(map(int,input().split()))\n",
    "d = defaultdict(list)\n",
    "for i in range(n):\n",
    "    d[input()].append(i+1)\n",
    "for i in range(m):\n",
    "    print(*d[input()] or [-1])"
   ]
  }
 ],
 "metadata": {
  "kernelspec": {
   "display_name": "Python 3",
   "language": "python",
   "name": "python3"
  },
  "language_info": {
   "codemirror_mode": {
    "name": "ipython",
    "version": 3
   },
   "file_extension": ".py",
   "mimetype": "text/x-python",
   "name": "python",
   "nbconvert_exporter": "python",
   "pygments_lexer": "ipython3",
   "version": "3.8.8"
  }
 },
 "nbformat": 4,
 "nbformat_minor": 5
}
