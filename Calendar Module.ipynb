{
 "cells": [
  {
   "cell_type": "code",
   "execution_count": 12,
   "id": "7155f467",
   "metadata": {},
   "outputs": [
    {
     "name": "stdout",
     "output_type": "stream",
     "text": [
      "03 02 2019\n",
      "3 2 2019\n",
      "2019-02-03\n",
      "SUNDAY\n"
     ]
    }
   ],
   "source": [
    "# Python program to Find day of\n",
    "# the week for a given date\n",
    "import datetime\n",
    "from datetime import date\n",
    "import calendar\n",
    " \n",
    "def findDay(date):\n",
    "    day, month, year = (int(i) for i in date.split(' '))   \n",
    "    print(day,month,year)\n",
    "    born = datetime.date(year, month, day)\n",
    "    print(born)\n",
    "    return(born.strftime(\"%A\").upper())\n",
    "    \n",
    " \n",
    "# Driver program\n",
    "#date = '03 02 2019'\n",
    "date = input()\n",
    "\n",
    "print(findDay(date))"
   ]
  }
 ],
 "metadata": {
  "kernelspec": {
   "display_name": "Python 3",
   "language": "python",
   "name": "python3"
  },
  "language_info": {
   "codemirror_mode": {
    "name": "ipython",
    "version": 3
   },
   "file_extension": ".py",
   "mimetype": "text/x-python",
   "name": "python",
   "nbconvert_exporter": "python",
   "pygments_lexer": "ipython3",
   "version": "3.8.8"
  }
 },
 "nbformat": 4,
 "nbformat_minor": 5
}
