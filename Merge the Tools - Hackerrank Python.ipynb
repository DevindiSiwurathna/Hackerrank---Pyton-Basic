{
 "cells": [
  {
   "cell_type": "code",
   "execution_count": 15,
   "id": "bbe95d6a",
   "metadata": {},
   "outputs": [
    {
     "name": "stdout",
     "output_type": "stream",
     "text": [
      "aaabbbddd\n",
      "3\n",
      "a\n",
      "b\n",
      "d\n"
     ]
    }
   ],
   "source": [
    "def merge_the_tools(string, k):\n",
    "    l = []\n",
    "    m = 0\n",
    "    for  i in range(len(string)//k): \n",
    "        l.append(string[m:m+k])\n",
    "        m += k\n",
    "    \n",
    "    \n",
    "    \n",
    "    for v in l:\n",
    "        \n",
    "        print(''.join(list(dict.fromkeys(list(v)).keys())))\n",
    "        \n",
    "        \n",
    "    \n",
    "string, k = input(), int(input())\n",
    "merge_the_tools(string, k)"
   ]
  },
  {
   "cell_type": "code",
   "execution_count": null,
   "id": "91d0a7d8",
   "metadata": {},
   "outputs": [],
   "source": []
  }
 ],
 "metadata": {
  "kernelspec": {
   "display_name": "Python 3",
   "language": "python",
   "name": "python3"
  },
  "language_info": {
   "codemirror_mode": {
    "name": "ipython",
    "version": 3
   },
   "file_extension": ".py",
   "mimetype": "text/x-python",
   "name": "python",
   "nbconvert_exporter": "python",
   "pygments_lexer": "ipython3",
   "version": "3.8.8"
  }
 },
 "nbformat": 4,
 "nbformat_minor": 5
}
